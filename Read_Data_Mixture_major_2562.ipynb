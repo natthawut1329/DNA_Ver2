{
 "cells": [
  {
   "cell_type": "code",
   "execution_count": 1,
   "id": "streaming-nation",
   "metadata": {},
   "outputs": [],
   "source": [
    "import pathlib\n",
    "\n",
    "import matplotlib.pyplot as plt\n",
    "import numpy as np\n",
    "import pandas as pd\n",
    "import seaborn as sns"
   ]
  },
  {
   "cell_type": "code",
   "execution_count": 9,
   "id": "cordless-growing",
   "metadata": {},
   "outputs": [
    {
     "name": "stderr",
     "output_type": "stream",
     "text": [
      "<ipython-input-9-3191587c6b30>:3: FutureWarning: Your version of xlrd is 1.2.0. In xlrd >= 2.0, only the xls format is supported. As a result, the openpyxl engine will be used if it is installed and the engine argument is not specified. Install openpyxl instead.\n",
      "  df_sh1 = pd.read_excel(uri, sheet_name='Mixtured Profile=142')\n",
      "<ipython-input-9-3191587c6b30>:4: FutureWarning: Your version of xlrd is 1.2.0. In xlrd >= 2.0, only the xls format is supported. As a result, the openpyxl engine will be used if it is installed and the engine argument is not specified. Install openpyxl instead.\n",
      "  df_sh2 = pd.read_excel(uri, sheet_name='Major Full=39')\n"
     ]
    },
    {
     "data": {
      "text/html": [
       "<div>\n",
       "<style scoped>\n",
       "    .dataframe tbody tr th:only-of-type {\n",
       "        vertical-align: middle;\n",
       "    }\n",
       "\n",
       "    .dataframe tbody tr th {\n",
       "        vertical-align: top;\n",
       "    }\n",
       "\n",
       "    .dataframe thead th {\n",
       "        text-align: right;\n",
       "    }\n",
       "</style>\n",
       "<table border=\"1\" class=\"dataframe\">\n",
       "  <thead>\n",
       "    <tr style=\"text-align: right;\">\n",
       "      <th></th>\n",
       "      <th>DNA Profile type_Mixture Major</th>\n",
       "      <th>Unnamed: 1</th>\n",
       "      <th>Unnamed: 2</th>\n",
       "      <th>Unnamed: 3</th>\n",
       "    </tr>\n",
       "  </thead>\n",
       "  <tbody>\n",
       "    <tr>\n",
       "      <th>0</th>\n",
       "      <td>Sample Name</td>\n",
       "      <td>Marker</td>\n",
       "      <td>Allele1</td>\n",
       "      <td>Allele2</td>\n",
       "    </tr>\n",
       "    <tr>\n",
       "      <th>1</th>\n",
       "      <td>62-00571-01-G1</td>\n",
       "      <td>D3S1358</td>\n",
       "      <td>15</td>\n",
       "      <td>17</td>\n",
       "    </tr>\n",
       "    <tr>\n",
       "      <th>2</th>\n",
       "      <td>62-00571-01-G1</td>\n",
       "      <td>vWA</td>\n",
       "      <td>17</td>\n",
       "      <td>18</td>\n",
       "    </tr>\n",
       "    <tr>\n",
       "      <th>3</th>\n",
       "      <td>62-00571-01-G1</td>\n",
       "      <td>D16S539</td>\n",
       "      <td>10</td>\n",
       "      <td>12</td>\n",
       "    </tr>\n",
       "    <tr>\n",
       "      <th>4</th>\n",
       "      <td>62-00571-01-G1</td>\n",
       "      <td>CSF1PO</td>\n",
       "      <td>10</td>\n",
       "      <td>11</td>\n",
       "    </tr>\n",
       "  </tbody>\n",
       "</table>\n",
       "</div>"
      ],
      "text/plain": [
       "  DNA Profile type_Mixture Major Unnamed: 1 Unnamed: 2 Unnamed: 3\n",
       "0                    Sample Name     Marker    Allele1    Allele2\n",
       "1                 62-00571-01-G1    D3S1358         15         17\n",
       "2                 62-00571-01-G1        vWA         17         18\n",
       "3                 62-00571-01-G1    D16S539         10         12\n",
       "4                 62-00571-01-G1     CSF1PO         10         11"
      ]
     },
     "execution_count": 9,
     "metadata": {},
     "output_type": "execute_result"
    }
   ],
   "source": [
    "#input data DNA\n",
    "uri = 'https://github.com/natthawut1329/SUT_DNA_Project_V1/raw/master/Mixture_major_2562_assembled_to_AI.xlsx'\n",
    "df_sh1 = pd.read_excel(uri, sheet_name='Mixtured Profile=142')\n",
    "df_sh2 = pd.read_excel(uri, sheet_name='Major Full=39')\n",
    "df_sh2.head()"
   ]
  }
 ],
 "metadata": {
  "kernelspec": {
   "display_name": "TensorFlow1-GPU",
   "language": "python",
   "name": "tf1"
  },
  "language_info": {
   "codemirror_mode": {
    "name": "ipython",
    "version": 3
   },
   "file_extension": ".py",
   "mimetype": "text/x-python",
   "name": "python",
   "nbconvert_exporter": "python",
   "pygments_lexer": "ipython3",
   "version": "3.8.5"
  }
 },
 "nbformat": 4,
 "nbformat_minor": 5
}
